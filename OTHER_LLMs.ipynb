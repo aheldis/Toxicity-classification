{
  "cells": [
    {
      "cell_type": "code",
      "execution_count": 1,
      "metadata": {
        "colab": {
          "base_uri": "https://localhost:8080/"
        },
        "id": "E8FZbRitMvNc",
        "outputId": "c1f61bda-fbd6-4760-dc2b-489ddb9b28a1"
      },
      "outputs": [
        {
          "output_type": "stream",
          "name": "stdout",
          "text": [
            "Mounted at /content/drive\n"
          ]
        }
      ],
      "source": [
        "from google.colab import drive\n",
        "drive.mount('/content/drive')"
      ]
    },
    {
      "cell_type": "code",
      "execution_count": 2,
      "metadata": {
        "colab": {
          "base_uri": "https://localhost:8080/"
        },
        "id": "7TElTaLtM3KV",
        "outputId": "5a644bf2-f0f3-4389-e1b9-96627baf161f"
      },
      "outputs": [
        {
          "output_type": "stream",
          "name": "stdout",
          "text": [
            "/content/drive/.shortcut-targets-by-id/11dCuBITl5umJqjJki52-YAId8zeeW9i7/247 Project\n",
            "'CS 247 Final Presentation.gslides'    FINAL_TOPICS_FINETUNE_HATEBERT.ipynb\n",
            "'CS_247_Project_Report (1).pdf'        LDA_SPLIT.ipynb\n",
            "'CS 247 Project Results.gsheet'        LDA_TOPIC_MODELING.ipynb\n",
            " \u001b[0m\u001b[01;34mdata\u001b[0m/                                 \u001b[01;34mmodels\u001b[0m/\n",
            " DEMOGRAPHIC_ANALYSIS.ipynb            NLPOSITIONALITY_ANALYSIS.ipynb\n",
            " FINAL_FULL_FINETUNE_BERTWEET.ipynb   'Project Ideas.gdoc'\n",
            " FINAL_FULL_FINETUNE_HATEBERT.ipynb   'Project Proposal.gdoc'\n",
            " FINAL_SAVE_CSV.ipynb                  \u001b[01;34mresults\u001b[0m/\n",
            " FINAL_TOPIC_FINETUNE_BERTWEET.ipynb   \u001b[01;34mtest_trainer\u001b[0m/\n"
          ]
        }
      ],
      "source": [
        "%cd /content/drive/My Drive/247 Project\n",
        "%ls"
      ]
    },
    {
      "cell_type": "code",
      "source": [
        "!pip install datasets\n",
        "!pip install evaluate"
      ],
      "metadata": {
        "colab": {
          "base_uri": "https://localhost:8080/"
        },
        "id": "hSQ4bUEgxTi9",
        "outputId": "a5511d5d-89f1-4177-d423-a5dc0a5c62a0"
      },
      "execution_count": 3,
      "outputs": [
        {
          "output_type": "stream",
          "name": "stdout",
          "text": [
            "Collecting datasets\n",
            "  Downloading datasets-2.21.0-py3-none-any.whl.metadata (21 kB)\n",
            "Requirement already satisfied: filelock in /usr/local/lib/python3.10/dist-packages (from datasets) (3.15.4)\n",
            "Requirement already satisfied: numpy>=1.17 in /usr/local/lib/python3.10/dist-packages (from datasets) (1.26.4)\n",
            "Collecting pyarrow>=15.0.0 (from datasets)\n",
            "  Downloading pyarrow-17.0.0-cp310-cp310-manylinux_2_28_x86_64.whl.metadata (3.3 kB)\n",
            "Collecting dill<0.3.9,>=0.3.0 (from datasets)\n",
            "  Downloading dill-0.3.8-py3-none-any.whl.metadata (10 kB)\n",
            "Requirement already satisfied: pandas in /usr/local/lib/python3.10/dist-packages (from datasets) (2.1.4)\n",
            "Requirement already satisfied: requests>=2.32.2 in /usr/local/lib/python3.10/dist-packages (from datasets) (2.32.3)\n",
            "Requirement already satisfied: tqdm>=4.66.3 in /usr/local/lib/python3.10/dist-packages (from datasets) (4.66.5)\n",
            "Collecting xxhash (from datasets)\n",
            "  Downloading xxhash-3.5.0-cp310-cp310-manylinux_2_17_x86_64.manylinux2014_x86_64.whl.metadata (12 kB)\n",
            "Collecting multiprocess (from datasets)\n",
            "  Downloading multiprocess-0.70.16-py310-none-any.whl.metadata (7.2 kB)\n",
            "Requirement already satisfied: fsspec<=2024.6.1,>=2023.1.0 in /usr/local/lib/python3.10/dist-packages (from fsspec[http]<=2024.6.1,>=2023.1.0->datasets) (2024.6.1)\n",
            "Requirement already satisfied: aiohttp in /usr/local/lib/python3.10/dist-packages (from datasets) (3.10.5)\n",
            "Requirement already satisfied: huggingface-hub>=0.21.2 in /usr/local/lib/python3.10/dist-packages (from datasets) (0.23.5)\n",
            "Requirement already satisfied: packaging in /usr/local/lib/python3.10/dist-packages (from datasets) (24.1)\n",
            "Requirement already satisfied: pyyaml>=5.1 in /usr/local/lib/python3.10/dist-packages (from datasets) (6.0.2)\n",
            "Requirement already satisfied: aiohappyeyeballs>=2.3.0 in /usr/local/lib/python3.10/dist-packages (from aiohttp->datasets) (2.4.0)\n",
            "Requirement already satisfied: aiosignal>=1.1.2 in /usr/local/lib/python3.10/dist-packages (from aiohttp->datasets) (1.3.1)\n",
            "Requirement already satisfied: attrs>=17.3.0 in /usr/local/lib/python3.10/dist-packages (from aiohttp->datasets) (24.2.0)\n",
            "Requirement already satisfied: frozenlist>=1.1.1 in /usr/local/lib/python3.10/dist-packages (from aiohttp->datasets) (1.4.1)\n",
            "Requirement already satisfied: multidict<7.0,>=4.5 in /usr/local/lib/python3.10/dist-packages (from aiohttp->datasets) (6.0.5)\n",
            "Requirement already satisfied: yarl<2.0,>=1.0 in /usr/local/lib/python3.10/dist-packages (from aiohttp->datasets) (1.9.4)\n",
            "Requirement already satisfied: async-timeout<5.0,>=4.0 in /usr/local/lib/python3.10/dist-packages (from aiohttp->datasets) (4.0.3)\n",
            "Requirement already satisfied: typing-extensions>=3.7.4.3 in /usr/local/lib/python3.10/dist-packages (from huggingface-hub>=0.21.2->datasets) (4.12.2)\n",
            "Requirement already satisfied: charset-normalizer<4,>=2 in /usr/local/lib/python3.10/dist-packages (from requests>=2.32.2->datasets) (3.3.2)\n",
            "Requirement already satisfied: idna<4,>=2.5 in /usr/local/lib/python3.10/dist-packages (from requests>=2.32.2->datasets) (3.7)\n",
            "Requirement already satisfied: urllib3<3,>=1.21.1 in /usr/local/lib/python3.10/dist-packages (from requests>=2.32.2->datasets) (2.0.7)\n",
            "Requirement already satisfied: certifi>=2017.4.17 in /usr/local/lib/python3.10/dist-packages (from requests>=2.32.2->datasets) (2024.7.4)\n",
            "Requirement already satisfied: python-dateutil>=2.8.2 in /usr/local/lib/python3.10/dist-packages (from pandas->datasets) (2.8.2)\n",
            "Requirement already satisfied: pytz>=2020.1 in /usr/local/lib/python3.10/dist-packages (from pandas->datasets) (2024.1)\n",
            "Requirement already satisfied: tzdata>=2022.1 in /usr/local/lib/python3.10/dist-packages (from pandas->datasets) (2024.1)\n",
            "Requirement already satisfied: six>=1.5 in /usr/local/lib/python3.10/dist-packages (from python-dateutil>=2.8.2->pandas->datasets) (1.16.0)\n",
            "Downloading datasets-2.21.0-py3-none-any.whl (527 kB)\n",
            "\u001b[2K   \u001b[90m━━━━━━━━━━━━━━━━━━━━━━━━━━━━━━━━━━━━━━━━\u001b[0m \u001b[32m527.3/527.3 kB\u001b[0m \u001b[31m4.4 MB/s\u001b[0m eta \u001b[36m0:00:00\u001b[0m\n",
            "\u001b[?25hDownloading dill-0.3.8-py3-none-any.whl (116 kB)\n",
            "\u001b[2K   \u001b[90m━━━━━━━━━━━━━━━━━━━━━━━━━━━━━━━━━━━━━━━━\u001b[0m \u001b[32m116.3/116.3 kB\u001b[0m \u001b[31m7.0 MB/s\u001b[0m eta \u001b[36m0:00:00\u001b[0m\n",
            "\u001b[?25hDownloading pyarrow-17.0.0-cp310-cp310-manylinux_2_28_x86_64.whl (39.9 MB)\n",
            "\u001b[2K   \u001b[90m━━━━━━━━━━━━━━━━━━━━━━━━━━━━━━━━━━━━━━━━\u001b[0m \u001b[32m39.9/39.9 MB\u001b[0m \u001b[31m15.8 MB/s\u001b[0m eta \u001b[36m0:00:00\u001b[0m\n",
            "\u001b[?25hDownloading multiprocess-0.70.16-py310-none-any.whl (134 kB)\n",
            "\u001b[2K   \u001b[90m━━━━━━━━━━━━━━━━━━━━━━━━━━━━━━━━━━━━━━━━\u001b[0m \u001b[32m134.8/134.8 kB\u001b[0m \u001b[31m7.1 MB/s\u001b[0m eta \u001b[36m0:00:00\u001b[0m\n",
            "\u001b[?25hDownloading xxhash-3.5.0-cp310-cp310-manylinux_2_17_x86_64.manylinux2014_x86_64.whl (194 kB)\n",
            "\u001b[2K   \u001b[90m━━━━━━━━━━━━━━━━━━━━━━━━━━━━━━━━━━━━━━━━\u001b[0m \u001b[32m194.1/194.1 kB\u001b[0m \u001b[31m7.7 MB/s\u001b[0m eta \u001b[36m0:00:00\u001b[0m\n",
            "\u001b[?25hInstalling collected packages: xxhash, pyarrow, dill, multiprocess, datasets\n",
            "  Attempting uninstall: pyarrow\n",
            "    Found existing installation: pyarrow 14.0.2\n",
            "    Uninstalling pyarrow-14.0.2:\n",
            "      Successfully uninstalled pyarrow-14.0.2\n",
            "\u001b[31mERROR: pip's dependency resolver does not currently take into account all the packages that are installed. This behaviour is the source of the following dependency conflicts.\n",
            "cudf-cu12 24.4.1 requires pyarrow<15.0.0a0,>=14.0.1, but you have pyarrow 17.0.0 which is incompatible.\n",
            "ibis-framework 8.0.0 requires pyarrow<16,>=2, but you have pyarrow 17.0.0 which is incompatible.\u001b[0m\u001b[31m\n",
            "\u001b[0mSuccessfully installed datasets-2.21.0 dill-0.3.8 multiprocess-0.70.16 pyarrow-17.0.0 xxhash-3.5.0\n",
            "Collecting evaluate\n",
            "  Downloading evaluate-0.4.2-py3-none-any.whl.metadata (9.3 kB)\n",
            "Requirement already satisfied: datasets>=2.0.0 in /usr/local/lib/python3.10/dist-packages (from evaluate) (2.21.0)\n",
            "Requirement already satisfied: numpy>=1.17 in /usr/local/lib/python3.10/dist-packages (from evaluate) (1.26.4)\n",
            "Requirement already satisfied: dill in /usr/local/lib/python3.10/dist-packages (from evaluate) (0.3.8)\n",
            "Requirement already satisfied: pandas in /usr/local/lib/python3.10/dist-packages (from evaluate) (2.1.4)\n",
            "Requirement already satisfied: requests>=2.19.0 in /usr/local/lib/python3.10/dist-packages (from evaluate) (2.32.3)\n",
            "Requirement already satisfied: tqdm>=4.62.1 in /usr/local/lib/python3.10/dist-packages (from evaluate) (4.66.5)\n",
            "Requirement already satisfied: xxhash in /usr/local/lib/python3.10/dist-packages (from evaluate) (3.5.0)\n",
            "Requirement already satisfied: multiprocess in /usr/local/lib/python3.10/dist-packages (from evaluate) (0.70.16)\n",
            "Requirement already satisfied: fsspec>=2021.05.0 in /usr/local/lib/python3.10/dist-packages (from fsspec[http]>=2021.05.0->evaluate) (2024.6.1)\n",
            "Requirement already satisfied: huggingface-hub>=0.7.0 in /usr/local/lib/python3.10/dist-packages (from evaluate) (0.23.5)\n",
            "Requirement already satisfied: packaging in /usr/local/lib/python3.10/dist-packages (from evaluate) (24.1)\n",
            "Requirement already satisfied: filelock in /usr/local/lib/python3.10/dist-packages (from datasets>=2.0.0->evaluate) (3.15.4)\n",
            "Requirement already satisfied: pyarrow>=15.0.0 in /usr/local/lib/python3.10/dist-packages (from datasets>=2.0.0->evaluate) (17.0.0)\n",
            "Requirement already satisfied: aiohttp in /usr/local/lib/python3.10/dist-packages (from datasets>=2.0.0->evaluate) (3.10.5)\n",
            "Requirement already satisfied: pyyaml>=5.1 in /usr/local/lib/python3.10/dist-packages (from datasets>=2.0.0->evaluate) (6.0.2)\n",
            "Requirement already satisfied: typing-extensions>=3.7.4.3 in /usr/local/lib/python3.10/dist-packages (from huggingface-hub>=0.7.0->evaluate) (4.12.2)\n",
            "Requirement already satisfied: charset-normalizer<4,>=2 in /usr/local/lib/python3.10/dist-packages (from requests>=2.19.0->evaluate) (3.3.2)\n",
            "Requirement already satisfied: idna<4,>=2.5 in /usr/local/lib/python3.10/dist-packages (from requests>=2.19.0->evaluate) (3.7)\n",
            "Requirement already satisfied: urllib3<3,>=1.21.1 in /usr/local/lib/python3.10/dist-packages (from requests>=2.19.0->evaluate) (2.0.7)\n",
            "Requirement already satisfied: certifi>=2017.4.17 in /usr/local/lib/python3.10/dist-packages (from requests>=2.19.0->evaluate) (2024.7.4)\n",
            "Requirement already satisfied: python-dateutil>=2.8.2 in /usr/local/lib/python3.10/dist-packages (from pandas->evaluate) (2.8.2)\n",
            "Requirement already satisfied: pytz>=2020.1 in /usr/local/lib/python3.10/dist-packages (from pandas->evaluate) (2024.1)\n",
            "Requirement already satisfied: tzdata>=2022.1 in /usr/local/lib/python3.10/dist-packages (from pandas->evaluate) (2024.1)\n",
            "Requirement already satisfied: aiohappyeyeballs>=2.3.0 in /usr/local/lib/python3.10/dist-packages (from aiohttp->datasets>=2.0.0->evaluate) (2.4.0)\n",
            "Requirement already satisfied: aiosignal>=1.1.2 in /usr/local/lib/python3.10/dist-packages (from aiohttp->datasets>=2.0.0->evaluate) (1.3.1)\n",
            "Requirement already satisfied: attrs>=17.3.0 in /usr/local/lib/python3.10/dist-packages (from aiohttp->datasets>=2.0.0->evaluate) (24.2.0)\n",
            "Requirement already satisfied: frozenlist>=1.1.1 in /usr/local/lib/python3.10/dist-packages (from aiohttp->datasets>=2.0.0->evaluate) (1.4.1)\n",
            "Requirement already satisfied: multidict<7.0,>=4.5 in /usr/local/lib/python3.10/dist-packages (from aiohttp->datasets>=2.0.0->evaluate) (6.0.5)\n",
            "Requirement already satisfied: yarl<2.0,>=1.0 in /usr/local/lib/python3.10/dist-packages (from aiohttp->datasets>=2.0.0->evaluate) (1.9.4)\n",
            "Requirement already satisfied: async-timeout<5.0,>=4.0 in /usr/local/lib/python3.10/dist-packages (from aiohttp->datasets>=2.0.0->evaluate) (4.0.3)\n",
            "Requirement already satisfied: six>=1.5 in /usr/local/lib/python3.10/dist-packages (from python-dateutil>=2.8.2->pandas->evaluate) (1.16.0)\n",
            "Downloading evaluate-0.4.2-py3-none-any.whl (84 kB)\n",
            "\u001b[2K   \u001b[90m━━━━━━━━━━━━━━━━━━━━━━━━━━━━━━━━━━━━━━━━\u001b[0m \u001b[32m84.1/84.1 kB\u001b[0m \u001b[31m877.6 kB/s\u001b[0m eta \u001b[36m0:00:00\u001b[0m\n",
            "\u001b[?25hInstalling collected packages: evaluate\n",
            "Successfully installed evaluate-0.4.2\n"
          ]
        }
      ]
    },
    {
      "cell_type": "code",
      "source": [
        "import pandas as pd\n",
        "from datasets import load_dataset\n",
        "import datasets\n",
        "from datasets import Dataset, DatasetDict\n",
        "import numpy as np\n",
        "\n",
        "val_dataset = pd.read_csv('data/toxicity_processed_val.csv')\n",
        "val_dataset['perspective'] = val_dataset['perspective'].astype(float)\n",
        "val_dataset['perspective'] = np.where(val_dataset['perspective'] >= 0.5, 1, -1)\n",
        "val_dataset['rewire'] = val_dataset['rewire'].astype(float)\n",
        "val_dataset['rewire'] = np.where(val_dataset['rewire'] >= 0.5, 1, -1)\n",
        "val_dataset['hateroberta'] = val_dataset['hateroberta'].astype(float)\n",
        "val_dataset['hateroberta'] = np.where(val_dataset['hateroberta'] >= 0.5, 1, -1)"
      ],
      "metadata": {
        "id": "w0p6MYeznzv1"
      },
      "execution_count": 35,
      "outputs": []
    },
    {
      "cell_type": "code",
      "execution_count": 36,
      "metadata": {
        "id": "VpxpFYoKqaXC",
        "colab": {
          "base_uri": "https://localhost:8080/"
        },
        "outputId": "8ba1cdc6-d424-4911-9ecf-35dfe5a32174"
      },
      "outputs": [
        {
          "output_type": "stream",
          "name": "stdout",
          "text": [
            "perspective: {'f1': 0.36363451363451366}\n",
            "rewire: {'f1': 0.42778623372230684}\n",
            "hateroberta: {'f1': 0.3788316482105601}\n",
            "gpt4: {'f1': 0.4054473062964659}\n"
          ]
        }
      ],
      "source": [
        "import numpy as np\n",
        "import evaluate\n",
        "\n",
        "metric = evaluate.load(\"f1\")\n",
        "print(\"perspective:\", metric.compute(predictions=val_dataset['perspective'], references=val_dataset['litw'], average=\"macro\"))\n",
        "print(\"rewire:\", metric.compute(predictions=val_dataset['rewire'], references=val_dataset['litw'], average=\"macro\"))\n",
        "print(\"hateroberta:\", metric.compute(predictions=val_dataset['hateroberta'], references=val_dataset['litw'], average=\"macro\"))\n",
        "print(\"gpt4:\", metric.compute(predictions=val_dataset['gpt4'], references=val_dataset['litw'], average=\"macro\"))"
      ]
    },
    {
      "cell_type": "code",
      "source": [
        "val_dataset = pd.read_csv('data/toxicity_processed_val_topic_0.csv')\n",
        "val_dataset['perspective'] = val_dataset['perspective'].astype(float)\n",
        "val_dataset['perspective'] = np.where(val_dataset['perspective'] >= 0.5, 1, -1)\n",
        "val_dataset['rewire'] = val_dataset['rewire'].astype(float)\n",
        "val_dataset['rewire'] = np.where(val_dataset['rewire'] >= 0.5, 1, -1)\n",
        "val_dataset['hateroberta'] = val_dataset['hateroberta'].astype(float)\n",
        "val_dataset['hateroberta'] = np.where(val_dataset['hateroberta'] >= 0.5, 1, -1)\n",
        "print(\"perspective:\", metric.compute(predictions=val_dataset['perspective'], references=val_dataset['litw'], average=\"macro\"))\n",
        "print(\"rewire:\", metric.compute(predictions=val_dataset['rewire'], references=val_dataset['litw'], average=\"macro\"))\n",
        "print(\"hateroberta:\", metric.compute(predictions=val_dataset['hateroberta'], references=val_dataset['litw'], average=\"macro\"))\n",
        "print(\"gpt4:\", metric.compute(predictions=val_dataset['gpt4'], references=val_dataset['litw'], average=\"macro\"))"
      ],
      "metadata": {
        "colab": {
          "base_uri": "https://localhost:8080/"
        },
        "id": "eTdCrZ9tyYlI",
        "outputId": "51327387-70e2-4cfb-ee71-b1d3151ba6a2"
      },
      "execution_count": 32,
      "outputs": [
        {
          "output_type": "stream",
          "name": "stdout",
          "text": [
            "perspective: {'f1': 0.38541943148927565}\n",
            "rewire: {'f1': 0.438551376834887}\n",
            "hateroberta: {'f1': 0.36894977168949766}\n",
            "gpt4: {'f1': 0.3966286239013512}\n"
          ]
        }
      ]
    },
    {
      "cell_type": "code",
      "source": [
        "val_dataset = pd.read_csv('data/toxicity_processed_val_topic_1.csv')\n",
        "val_dataset['perspective'] = val_dataset['perspective'].astype(float)\n",
        "val_dataset['perspective'] = np.where(val_dataset['perspective'] >= 0.5, 1, -1)\n",
        "val_dataset['rewire'] = val_dataset['rewire'].astype(float)\n",
        "val_dataset['rewire'] = np.where(val_dataset['rewire'] >= 0.5, 1, -1)\n",
        "val_dataset['hateroberta'] = val_dataset['hateroberta'].astype(float)\n",
        "val_dataset['hateroberta'] = np.where(val_dataset['hateroberta'] >= 0.5, 1, -1)\n",
        "print(\"perspective:\", metric.compute(predictions=val_dataset['perspective'], references=val_dataset['litw'], average=\"macro\"))\n",
        "print(\"rewire:\", metric.compute(predictions=val_dataset['rewire'], references=val_dataset['litw'], average=\"macro\"))\n",
        "print(\"hateroberta:\", metric.compute(predictions=val_dataset['hateroberta'], references=val_dataset['litw'], average=\"macro\"))\n",
        "print(\"gpt4:\", metric.compute(predictions=val_dataset['gpt4'], references=val_dataset['litw'], average=\"macro\"))"
      ],
      "metadata": {
        "colab": {
          "base_uri": "https://localhost:8080/"
        },
        "id": "IzsHr25Aykyz",
        "outputId": "89cf044f-d7dc-4953-9bb5-a2caa06c6d33"
      },
      "execution_count": 33,
      "outputs": [
        {
          "output_type": "stream",
          "name": "stdout",
          "text": [
            "perspective: {'f1': 0.3857223560193857}\n",
            "rewire: {'f1': 0.4152801230815415}\n",
            "hateroberta: {'f1': 0.42164433937483586}\n",
            "gpt4: {'f1': 0.4163772457735712}\n"
          ]
        }
      ]
    },
    {
      "cell_type": "code",
      "source": [
        "val_dataset = pd.read_csv('data/toxicity_processed_val_topic_2.csv')\n",
        "val_dataset['perspective'] = val_dataset['perspective'].astype(float)\n",
        "val_dataset['perspective'] = np.where(val_dataset['perspective'] >= 0.5, 1, -1)\n",
        "val_dataset['rewire'] = val_dataset['rewire'].astype(float)\n",
        "val_dataset['rewire'] = np.where(val_dataset['rewire'] >= 0.5, 1, -1)\n",
        "val_dataset['hateroberta'] = val_dataset['hateroberta'].astype(float)\n",
        "val_dataset['hateroberta'] = np.where(val_dataset['hateroberta'] >= 0.5, 1, -1)\n",
        "print(\"perspective:\", metric.compute(predictions=val_dataset['perspective'], references=val_dataset['litw'], average=\"macro\"))\n",
        "print(\"rewire:\", metric.compute(predictions=val_dataset['rewire'], references=val_dataset['litw'], average=\"macro\"))\n",
        "print(\"hateroberta:\", metric.compute(predictions=val_dataset['hateroberta'], references=val_dataset['litw'], average=\"macro\"))\n",
        "print(\"gpt4:\", metric.compute(predictions=val_dataset['gpt4'], references=val_dataset['litw'], average=\"macro\"))"
      ],
      "metadata": {
        "colab": {
          "base_uri": "https://localhost:8080/"
        },
        "id": "K67TCKxiye6M",
        "outputId": "6111e982-ff4a-4bee-dd8d-21f63732c5e5"
      },
      "execution_count": 34,
      "outputs": [
        {
          "output_type": "stream",
          "name": "stdout",
          "text": [
            "perspective: {'f1': 0.31428772225736173}\n",
            "rewire: {'f1': 0.4295246038365304}\n",
            "hateroberta: {'f1': 0.33097925009100837}\n",
            "gpt4: {'f1': 0.39146751637457955}\n"
          ]
        }
      ]
    }
  ],
  "metadata": {
    "colab": {
      "provenance": [],
      "gpuType": "T4"
    },
    "kernelspec": {
      "display_name": "Python 3",
      "name": "python3"
    },
    "language_info": {
      "name": "python"
    }
  },
  "nbformat": 4,
  "nbformat_minor": 0
}